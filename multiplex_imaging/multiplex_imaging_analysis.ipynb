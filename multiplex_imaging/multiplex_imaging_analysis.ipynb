{
 "cells": [
  {
   "cell_type": "code",
   "execution_count": 1,
   "id": "1ec0825e",
   "metadata": {},
   "outputs": [],
   "source": [
    "import os\n",
    "import subprocess\n",
    "from pathlib import Path\n",
    "\n",
    "import anndata\n",
    "import matplotlib.pyplot as plt\n",
    "import numpy as np\n",
    "import pandas as pd\n",
    "import scanpy as sc"
   ]
  },
  {
   "cell_type": "markdown",
   "id": "745ae107",
   "metadata": {},
   "source": [
    "We'll use this breast cancer sample for the example: **20240705_Human_BRCA_HT704B1_CODEX_1**"
   ]
  },
  {
   "cell_type": "markdown",
   "id": "bbe728b5",
   "metadata": {},
   "source": [
    "Setting run directory for the example"
   ]
  },
  {
   "cell_type": "code",
   "execution_count": 4,
   "id": "32d4d52b",
   "metadata": {},
   "outputs": [],
   "source": [
    "sid = '20240705_Human_BRCA_HT704B1_CODEX_1'\n",
    "\n",
    "output_dir = Path(f'../data/{sid}')\n",
    "output_dir.mkdir(parents=True, exist_ok=True)"
   ]
  },
  {
   "cell_type": "markdown",
   "id": "bc01d78f",
   "metadata": {},
   "source": [
    "## Step 1: Conversion of phenocycler QPTIFF to OME-TIF"
   ]
  },
  {
   "cell_type": "markdown",
   "id": "baa367d5",
   "metadata": {},
   "source": [
    "To run the rest of the pipeline, we need to convert the .qptiff file output by the phenocycler to a .ome.tif file.\n",
    "\n",
    "To do so we'll use the [multiplex-imaging-pipeline](https://github.com/estorrs/multiplex-imaging-pipeline). Note that there are multiple options for the `make-ome` command, such as cropping with a bounding box. \n",
    "\n",
    "\n",
    "For illustrative purposes, we'll invoke it from the command line. See more details in the [multiplex-imaging-pipeline documentation](https://github.com/estorrs/multiplex-imaging-pipeline)."
   ]
  },
  {
   "cell_type": "code",
   "execution_count": 8,
   "id": "5c5df3d5",
   "metadata": {},
   "outputs": [],
   "source": [
    "qptiff_path = Path(\n",
    "    '/diskmnt/primary/CODEX/HTAN/20240705_Human_BRCA_HT704B1_CODEX_1/HT704B1-CODEX-1_Scan1.qptiff'\n",
    ")\n",
    "\n",
    "ome_path = output_dir / f'{sid}.ome.tiff' "
   ]
  },
  {
   "cell_type": "markdown",
   "id": "19d980a0",
   "metadata": {},
   "source": [
    "Generating the make-ome command"
   ]
  },
  {
   "cell_type": "code",
   "execution_count": 9,
   "id": "d5d34a7f",
   "metadata": {},
   "outputs": [
    {
     "data": {
      "text/plain": [
       "'mip make-ome --input-tif /diskmnt/primary/CODEX/HTAN/20240705_Human_BRCA_HT704B1_CODEX_1/HT704B1-CODEX-1_Scan1.qptiff --platform phenocycler --output-filepath ../data/20240705_Human_BRCA_HT704B1_CODEX_1/20240705_Human_BRCA_HT704B1_CODEX_1.ome.tiff'"
      ]
     },
     "execution_count": 9,
     "metadata": {},
     "output_type": "execute_result"
    }
   ],
   "source": [
    "command = f'mip make-ome \\\n",
    "--input-tif {qptiff_path} \\\n",
    "--platform phenocycler \\\n",
    "--output-filepath {ome_path}'\n",
    "command"
   ]
  },
  {
   "cell_type": "markdown",
   "id": "9b79bc83",
   "metadata": {},
   "source": [
    "Run from command line via subprocess"
   ]
  },
  {
   "cell_type": "code",
   "execution_count": 10,
   "id": "072f6066",
   "metadata": {},
   "outputs": [
    {
     "name": "stderr",
     "output_type": "stream",
     "text": [
      "2025-09-08 11:56:23.668875: W tensorflow/stream_executor/platform/default/dso_loader.cc:64] Could not load dynamic library 'libcudart.so.11.0'; dlerror: libcudart.so.11.0: cannot open shared object file: No such file or directory; LD_LIBRARY_PATH: /diskmnt/Users2/estorrs/miniconda3/envs/multiplex-imaging/lib/python3.9/site-packages/cv2/../../lib64:/usr/local/lib:/usr/lib64:/usr/local/lib:/usr/lib64:\n",
      "2025-09-08 11:56:23.668924: I tensorflow/stream_executor/cuda/cudart_stub.cc:29] Ignore above cudart dlerror if you do not have a GPU set up on your machine.\n",
      "2025-09-08 11:56:29,837 - 38 total markers\n",
      "2025-09-08 11:56:29,837 - writing as uint8\n",
      "2025-09-08 11:56:33,620 - loading DAPI\n",
      "2025-09-08 11:56:54,942 - loading Granzyme B\n",
      "2025-09-08 11:57:09,481 - loading Keratin 5\n",
      "2025-09-08 11:57:23,768 - loading PLAT/tPA (D)\n",
      "2025-09-08 11:57:39,110 - loading CTLA4 (D)\n",
      "2025-09-08 11:57:52,908 - loading CD31\n",
      "2025-09-08 11:58:05,803 - loading CD4 (D)\n",
      "2025-09-08 11:58:19,387 - loading SLC39A6 (D)\n",
      "2025-09-08 11:58:33,337 - loading TCF-1\n",
      "2025-09-08 11:58:48,404 - loading BCA1\n",
      "2025-09-08 11:59:03,443 - loading CD68\n",
      "2025-09-08 11:59:18,316 - loading CD39\n",
      "2025-09-08 11:59:31,800 - loading FOXP3\n",
      "2025-09-08 11:59:45,571 - loading CD163\n",
      "2025-09-08 11:59:57,451 - loading PD-1\n",
      "2025-09-08 12:00:11,017 - loading MLPH\n",
      "2025-09-08 12:00:26,578 - loading CD8\n",
      "2025-09-08 12:00:40,465 - loading HER2 (D)\n",
      "2025-09-08 12:00:56,012 - loading GLUT1 (D)\n",
      "2025-09-08 12:01:13,900 - loading ckit-(D)\n",
      "2025-09-08 12:01:30,051 - loading Pan-Cytokeratin\n",
      "2025-09-08 12:01:48,359 - loading HIF1a\n",
      "2025-09-08 12:02:04,052 - loading Podoplanin (D)\n",
      "2025-09-08 12:02:21,969 - loading CD20\n",
      "2025-09-08 12:02:39,005 - loading HLA-DR\n",
      "2025-09-08 12:02:53,595 - loading CK14 (D)\n",
      "2025-09-08 12:03:08,198 - loading TFF1 (D)\n",
      "2025-09-08 12:03:23,904 - loading MGP (D)\n",
      "2025-09-08 12:03:43,394 - loading Ki67\n",
      "2025-09-08 12:03:59,339 - loading Vimentin\n",
      "2025-09-08 12:04:17,739 - loading CD3e\n",
      "2025-09-08 12:04:34,624 - loading E-cadherin\n",
      "2025-09-08 12:04:52,149 - loading SMA (D)\n",
      "2025-09-08 12:05:08,369 - loading cd11b\n",
      "2025-09-08 12:05:23,689 - loading PR (D)\n",
      "2025-09-08 12:05:37,155 - loading CD45 (D)\n",
      "2025-09-08 12:05:52,926 - loading GATA3\n",
      "2025-09-08 12:06:07,501 - loading COX6C (D)\n",
      "2025-09-08 12:06:18,916 - writting full res image\n",
      "2025-09-08 12:19:27,298 - writting subres 2\n",
      "2025-09-08 12:19:41,449 - writting subres 4\n",
      "2025-09-08 12:19:44,935 - writting subres 8\n",
      "2025-09-08 12:19:45,727 - writting subres 16\n",
      "2025-09-08 12:19:53,756 - ome.tiff written to ../data/20240705_Human_BRCA_HT704B1_CODEX_1/20240705_Human_BRCA_HT704B1_CODEX_1.ome.tiff\n"
     ]
    }
   ],
   "source": [
    "_ = subprocess.check_output(command, shell=True)"
   ]
  },
  {
   "cell_type": "markdown",
   "id": "210e71c7",
   "metadata": {},
   "source": [
    "## Step 2: Cell segmentation"
   ]
  },
  {
   "cell_type": "code",
   "execution_count": 11,
   "id": "71a6c0a2",
   "metadata": {},
   "outputs": [],
   "source": [
    "ome_path = output_dir / f'{sid}.ome.tiff'\n",
    "assert ome_path.is_file() # making sure file exists"
   ]
  },
  {
   "cell_type": "markdown",
   "id": "abbc51b2",
   "metadata": {},
   "source": [
    "We will now run cell segmentation using deepcell. For more details refer to the [multiplex-imaging-pipeline documentation](https://github.com/estorrs/multiplex-imaging-pipeline).\n",
    "\n",
    "Note that selection of membrane segmentation markers may change run to run based on tissue type, panel, etc."
   ]
  },
  {
   "cell_type": "code",
   "execution_count": 18,
   "id": "37cab844",
   "metadata": {},
   "outputs": [],
   "source": [
    "# nuclei channel for nuclei segmentation\n",
    "nuclei_marker = 'DAPI'\n",
    "\n",
    "# membrane markers for cell segmentation\n",
    "membrane_markers = [\n",
    "    'Pan-Cytokeratin',\n",
    "    'HLA-DR',\n",
    "    'CD3e',\n",
    "    'CD4 (D)',\n",
    "    'Vimentin'\n",
    "]\n",
    "membrane_str = ','.join(membrane_markers)\n",
    "\n",
    "# image will be split into grids of 10,000 x 10,000 pixels for segmentation\n",
    "# if you run into memory issues, decrease this number\n",
    "split_size = 10000\n",
    "\n",
    "# prefix to be used for segmentation output files\n",
    "output_prefix = output_dir / f'{sid}'"
   ]
  },
  {
   "cell_type": "markdown",
   "id": "d7f9b2e2",
   "metadata": {},
   "source": [
    "generate command"
   ]
  },
  {
   "cell_type": "code",
   "execution_count": 21,
   "id": "bb766085",
   "metadata": {},
   "outputs": [
    {
     "data": {
      "text/plain": [
       "'mip segment-ome --input-tif ../data/20240705_Human_BRCA_HT704B1_CODEX_1/20240705_Human_BRCA_HT704B1_CODEX_1.ome.tiff --output-prefix ../data/20240705_Human_BRCA_HT704B1_CODEX_1/20240705_Human_BRCA_HT704B1_CODEX_1 --split-size 10000 --nuclei-channels \"DAPI\" --membrane-channels \"Pan-Cytokeratin,HLA-DR,CD3e,CD4 (D),Vimentin\"'"
      ]
     },
     "execution_count": 21,
     "metadata": {},
     "output_type": "execute_result"
    }
   ],
   "source": [
    "command = f'mip segment-ome \\\n",
    "--input-tif {ome_path} \\\n",
    "--output-prefix {output_prefix} \\\n",
    "--split-size {split_size} \\\n",
    "--nuclei-channels \"{nuclei_marker}\" \\\n",
    "--membrane-channels \"{membrane_str}\"'\n",
    "\n",
    "command"
   ]
  },
  {
   "cell_type": "markdown",
   "id": "e90c2107",
   "metadata": {},
   "source": [
    "Run from command line via subprocess"
   ]
  },
  {
   "cell_type": "code",
   "execution_count": null,
   "id": "b7084a16",
   "metadata": {},
   "outputs": [
    {
     "name": "stderr",
     "output_type": "stream",
     "text": [
      "2025-09-08 12:56:32.739397: W tensorflow/stream_executor/platform/default/dso_loader.cc:64] Could not load dynamic library 'libcudart.so.11.0'; dlerror: libcudart.so.11.0: cannot open shared object file: No such file or directory; LD_LIBRARY_PATH: /diskmnt/Users2/estorrs/miniconda3/envs/multiplex-imaging/lib/python3.9/site-packages/cv2/../../lib64:/usr/local/lib:/usr/lib64:/usr/local/lib:/usr/lib64:\n",
      "2025-09-08 12:56:32.739434: I tensorflow/stream_executor/cuda/cudart_stub.cc:29] Ignore above cudart dlerror if you do not have a GPU set up on your machine.\n",
      "2025-09-08 12:56:41,125 - starting segmentation for ../data/20240705_Human_BRCA_HT704B1_CODEX_1/20240705_Human_BRCA_HT704B1_CODEX_1.ome.tiff\n",
      "2025-09-08 12:56:41,126 - Checking for cached data\n",
      "2025-09-08 12:56:41,376 - Checking MultiplexSegmentation-9.tar.gz against provided file_hash...\n",
      "2025-09-08 12:56:41,376 - MultiplexSegmentation-9.tar.gz with hash a1dfbce2594f927b9112f23a0a1739e0 already available.\n",
      "2025-09-08 12:56:41,376 - Extracting /home/estorrs/.deepcell/models/MultiplexSegmentation-9.tar.gz\n",
      "2025-09-08 12:56:44,513 - Successfully extracted /home/estorrs/.deepcell/models/MultiplexSegmentation-9.tar.gz into /home/estorrs/.deepcell/models\n",
      "2025-09-08 12:56:44.647629: W tensorflow/stream_executor/platform/default/dso_loader.cc:64] Could not load dynamic library 'libcuda.so.1'; dlerror: libcuda.so.1: cannot open shared object file: No such file or directory; LD_LIBRARY_PATH: /diskmnt/Users2/estorrs/miniconda3/envs/multiplex-imaging/lib/python3.9/site-packages/cv2/../../lib64:/usr/local/lib:/usr/lib64:/usr/local/lib:/usr/lib64:\n",
      "2025-09-08 12:56:44.647673: W tensorflow/stream_executor/cuda/cuda_driver.cc:269] failed call to cuInit: UNKNOWN ERROR (303)\n",
      "2025-09-08 12:56:44.647699: I tensorflow/stream_executor/cuda/cuda_diagnostics.cc:156] kernel driver does not appear to be running on this host (sequoia): /proc/driver/nvidia/version does not exist\n",
      "2025-09-08 12:56:44.648019: I tensorflow/core/platform/cpu_feature_guard.cc:151] This TensorFlow binary is optimized with oneAPI Deep Neural Network Library (oneDNN) to use the following CPU instructions in performance-critical operations:  AVX2 AVX512F FMA\n",
      "To enable them in other operations, rebuild TensorFlow with the appropriate compiler flags.\n",
      "WARNING:tensorflow:No training configuration found in save file, so the model was *not* compiled. Compile it manually.\n",
      "2025-09-08 12:56:51,118 - No training configuration found in save file, so the model was *not* compiled. Compile it manually.\n",
      "2025-09-08 13:01:23,087 - spliting into nrows: 7, ncols: 2\n",
      "2025-09-08 13:01:23,088 - 0 0\n",
      "2025-09-08 13:01:23,088 - window: 0, 10000, 0, 10000\n",
      "/diskmnt/Users2/estorrs/miniconda3/envs/multiplex-imaging/lib/python3.9/site-packages/deepcell_toolbox/deep_watershed.py:108: UserWarning: h_maxima peak finding algorithm was selected, but the provided image is larger than 5k x 5k pixels.This will lead to slow prediction performance.\n",
      "  warnings.warn('h_maxima peak finding algorithm was selected, '\n",
      "2025-09-08 13:14:32,868 - 0 1\n",
      "2025-09-08 13:14:32,869 - window: 0, 10000, 9800, 19800\n",
      "2025-09-08 13:27:22,766 - 1 0\n",
      "2025-09-08 13:27:22,767 - window: 9800, 19800, 0, 10000\n",
      "2025-09-08 13:39:20,144 - 1 1\n",
      "2025-09-08 13:39:20,146 - window: 9800, 19800, 9800, 19800\n",
      "2025-09-08 13:49:19,656 - 2 0\n",
      "2025-09-08 13:49:19,657 - window: 19600, 29600, 0, 10000\n",
      "2025-09-08 14:01:14,362 - 2 1\n",
      "2025-09-08 14:01:14,363 - window: 19600, 29600, 9800, 19800\n",
      "2025-09-08 14:11:23,546 - 3 0\n",
      "2025-09-08 14:11:23,547 - window: 29400, 39400, 0, 10000\n",
      "2025-09-08 14:22:22,507 - 3 1\n",
      "2025-09-08 14:22:22,508 - window: 29400, 39400, 9800, 19800\n",
      "2025-09-08 14:33:23,010 - 4 0\n",
      "2025-09-08 14:33:23,012 - window: 39200, 49200, 0, 10000\n",
      "2025-09-08 14:43:45,922 - 4 1\n",
      "2025-09-08 14:43:45,923 - window: 39200, 49200, 9800, 19800\n",
      "2025-09-08 14:53:29,746 - 5 0\n",
      "2025-09-08 14:53:29,747 - window: 49000, 59000, 0, 10000\n",
      "2025-09-08 15:05:22,301 - 5 1\n",
      "2025-09-08 15:05:22,303 - window: 49000, 59000, 9800, 19800\n"
     ]
    }
   ],
   "source": [
    "_ = subprocess.check_output(command, shell=True)"
   ]
  },
  {
   "cell_type": "markdown",
   "id": "bfe3140c",
   "metadata": {},
   "source": [
    "## Step 3: Cell feature generation"
   ]
  },
  {
   "cell_type": "code",
   "execution_count": null,
   "id": "d19521a8",
   "metadata": {},
   "outputs": [],
   "source": []
  },
  {
   "cell_type": "code",
   "execution_count": null,
   "id": "747748f4",
   "metadata": {},
   "outputs": [],
   "source": []
  },
  {
   "cell_type": "code",
   "execution_count": null,
   "id": "cb76f3f4",
   "metadata": {},
   "outputs": [],
   "source": []
  },
  {
   "cell_type": "code",
   "execution_count": null,
   "id": "09c4335a",
   "metadata": {},
   "outputs": [],
   "source": []
  },
  {
   "cell_type": "code",
   "execution_count": null,
   "id": "5fd3b7d4",
   "metadata": {},
   "outputs": [],
   "source": []
  },
  {
   "cell_type": "code",
   "execution_count": null,
   "id": "de996b05",
   "metadata": {},
   "outputs": [],
   "source": []
  },
  {
   "cell_type": "code",
   "execution_count": null,
   "id": "2cbdd3d2",
   "metadata": {},
   "outputs": [],
   "source": []
  },
  {
   "cell_type": "code",
   "execution_count": null,
   "id": "b5e12f41",
   "metadata": {},
   "outputs": [],
   "source": []
  },
  {
   "cell_type": "code",
   "execution_count": null,
   "id": "3ba35a72",
   "metadata": {},
   "outputs": [],
   "source": []
  }
 ],
 "metadata": {
  "kernelspec": {
   "display_name": "Python 3 (ipykernel)",
   "language": "python",
   "name": "python3"
  },
  "language_info": {
   "codemirror_mode": {
    "name": "ipython",
    "version": 3
   },
   "file_extension": ".py",
   "mimetype": "text/x-python",
   "name": "python",
   "nbconvert_exporter": "python",
   "pygments_lexer": "ipython3",
   "version": "3.9.23"
  }
 },
 "nbformat": 4,
 "nbformat_minor": 5
}
